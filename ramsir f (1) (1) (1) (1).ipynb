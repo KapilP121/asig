{
 "cells": [
  {
   "cell_type": "markdown",
   "id": "f7cccaba-488a-48fe-a086-a84307f057f0",
   "metadata": {},
   "source": [
    "Write a Python program to print numbers from 1 to 10 using a for loop."
   ]
  },
  {
   "cell_type": "code",
   "execution_count": 3,
   "id": "af4913fb-4a7f-479e-a85f-7a637674f69f",
   "metadata": {},
   "outputs": [
    {
     "name": "stdout",
     "output_type": "stream",
     "text": [
      "1\n",
      "2\n",
      "3\n",
      "4\n",
      "5\n",
      "6\n",
      "7\n",
      "8\n",
      "9\n",
      "10\n"
     ]
    }
   ],
   "source": [
    "\n",
    "for i in range (1,11):\n",
    "    print(i)"
   ]
  },
  {
   "cell_type": "markdown",
   "id": "30078041-7633-4a41-bd95-53f521060648",
   "metadata": {},
   "source": [
    "Write a Python program to calculate the sum of all numbers from 1 to 100 using a for loop."
   ]
  },
  {
   "cell_type": "code",
   "execution_count": 4,
   "id": "ded55dc3-8652-4447-b81f-360b65bc7269",
   "metadata": {},
   "outputs": [
    {
     "name": "stdout",
     "output_type": "stream",
     "text": [
      "4950\n"
     ]
    }
   ],
   "source": [
    "sum=0\n",
    "\n",
    "for i in range(1,100):\n",
    "    sum +=i\n",
    "print(sum)"
   ]
  },
  {
   "cell_type": "markdown",
   "id": "9af53be4-6285-430a-a813-026987bbfc30",
   "metadata": {},
   "source": [
    "Write a Python program to find the product of all elements in a list using a for loop."
   ]
  },
  {
   "cell_type": "code",
   "execution_count": 64,
   "id": "f2eb1e49-157e-43ea-be47-de92534a4930",
   "metadata": {},
   "outputs": [
    {
     "name": "stdout",
     "output_type": "stream",
     "text": [
      "Product of elements in the list: 120\n"
     ]
    }
   ],
   "source": [
    "def product_of_list_elements(input_list):\n",
    "    result = 1 \n",
    "    for element in input_list:\n",
    "        result *= element \n",
    "    return result\n",
    "\n",
    "my_list = [2, 3, 4, 5]\n",
    "result = product_of_list_elements(my_list)\n",
    "print(\"Product of elements in the list:\", result)"
   ]
  },
  {
   "cell_type": "markdown",
   "id": "6e1be772-a051-49eb-921d-60b39666e3f5",
   "metadata": {},
   "source": [
    "Create a Python program that prints all even numbers from 1 to 20 using a for loop."
   ]
  },
  {
   "cell_type": "code",
   "execution_count": 11,
   "id": "607dc580-da57-48db-b5d6-497445794351",
   "metadata": {},
   "outputs": [
    {
     "name": "stdout",
     "output_type": "stream",
     "text": [
      "2\n",
      "4\n",
      "6\n",
      "8\n",
      "10\n",
      "12\n",
      "14\n",
      "16\n",
      "18\n",
      "20\n"
     ]
    }
   ],
   "source": [
    "for i in range(1,21):\n",
    "    if i%2==0:\n",
    "        print(i)\n",
    "    "
   ]
  },
  {
   "cell_type": "markdown",
   "id": "187a5937-df42-4124-900f-80b6135a3398",
   "metadata": {},
   "source": [
    "Write a Python program that calculates the factorial of a number using a for loop"
   ]
  },
  {
   "cell_type": "code",
   "execution_count": 61,
   "id": "f476686f-120b-41ee-b1ec-7795403b63cb",
   "metadata": {},
   "outputs": [],
   "source": [
    "def fact_num(n):\n",
    "    a=1\n",
    "    for i in range(1,n+1):\n",
    "        a=i*a\n",
    "    return a"
   ]
  },
  {
   "cell_type": "code",
   "execution_count": 62,
   "id": "42aa92ce-8138-49b1-a680-26b83c84b793",
   "metadata": {},
   "outputs": [
    {
     "data": {
      "text/plain": [
       "24"
      ]
     },
     "execution_count": 62,
     "metadata": {},
     "output_type": "execute_result"
    }
   ],
   "source": [
    "fact_num(4)"
   ]
  },
  {
   "cell_type": "markdown",
   "id": "95f5a2ff-52f4-4b53-bedf-5685b3d13e37",
   "metadata": {},
   "source": [
    "Write a Python program to find the largest number in a list using a for loop."
   ]
  },
  {
   "cell_type": "code",
   "execution_count": 3,
   "id": "b993027c-ff8b-4c20-9421-ce7f286b9355",
   "metadata": {},
   "outputs": [
    {
     "name": "stdin",
     "output_type": "stream",
     "text": [
      "enter number of element in list :  4\n",
      "enter element:  19\n",
      "enter element:  18\n",
      "enter element:  17\n",
      "enter element:  25\n"
     ]
    },
    {
     "name": "stdout",
     "output_type": "stream",
     "text": [
      "largest element is: 25\n"
     ]
    }
   ],
   "source": [
    "l1=[]\n",
    "num= int (input (\"enter number of element in list : \"))\n",
    "for i in range (1,num+1):\n",
    "    ele = int (input (\"enter element: \"))\n",
    "    l1.append(ele)\n",
    "print(\"largest element is:\",max(l1))\n",
    "    \n"
   ]
  },
  {
   "cell_type": "markdown",
   "id": "cd979b17-1994-4e3d-aef0-270d19d9426f",
   "metadata": {},
   "source": [
    "Create a Python program that generates a multiplication table for a given number using a for loop."
   ]
  },
  {
   "cell_type": "code",
   "execution_count": 5,
   "id": "834e3e04-590f-4cbe-8824-85c5bdff281c",
   "metadata": {},
   "outputs": [
    {
     "name": "stdout",
     "output_type": "stream",
     "text": [
      "12 x 1 = 12\n",
      "12 x 2 = 24\n",
      "12 x 3 = 36\n",
      "12 x 4 = 48\n",
      "12 x 5 = 60\n",
      "12 x 6 = 72\n",
      "12 x 7 = 84\n",
      "12 x 8 = 96\n",
      "12 x 9 = 108\n",
      "12 x 10 = 120\n"
     ]
    }
   ],
   "source": [
    "num=12\n",
    "\n",
    "for i in range(1,11):\n",
    "    print(num ,'x',i,'=', num*i)"
   ]
  },
  {
   "cell_type": "markdown",
   "id": "8146492d-bf9a-4a08-8c86-c5fe35c2566c",
   "metadata": {},
   "source": [
    "Write a Python program to find the largest number in a list using a for loop."
   ]
  },
  {
   "cell_type": "code",
   "execution_count": 10,
   "id": "921b5113-eb47-4ab3-8ccf-c1f271e70927",
   "metadata": {},
   "outputs": [
    {
     "name": "stdin",
     "output_type": "stream",
     "text": [
      "Enter number element in list :  4\n",
      "Enter element: 20\n",
      "Enter element: 30\n",
      "Enter element: 40\n",
      "Enter element: 50\n"
     ]
    },
    {
     "name": "stdout",
     "output_type": "stream",
     "text": [
      "largest element is : 50\n"
     ]
    }
   ],
   "source": [
    "l1=[]\n",
    "num=int (input (\"Enter number element in list : \"))\n",
    "for i in range (1,num+1):\n",
    "    ele=int(input(\"Enter element:\"))\n",
    "    l1.append(ele)\n",
    "print(\"largest element is :\",max(l1))"
   ]
  },
  {
   "cell_type": "markdown",
   "id": "7d8538e6-9042-488b-ad7c-220c4046059a",
   "metadata": {},
   "source": [
    "Create a Python program that prints the Fibonacci sequence up to a specified limit using a for loop."
   ]
  },
  {
   "cell_type": "code",
   "execution_count": 17,
   "id": "34c203ee-af72-4b6b-bb81-b1426fa31e68",
   "metadata": {},
   "outputs": [],
   "source": [
    "def fib(n):\n",
    "    a=0\n",
    "    b=1\n",
    "    if n==1:\n",
    "        print(a)\n",
    "    else:\n",
    "        print(a)\n",
    "        print(b)\n",
    "        for n in range(2,n):\n",
    "            c=a+b\n",
    "            a=b\n",
    "            b=c\n",
    "            print(c)"
   ]
  },
  {
   "cell_type": "code",
   "execution_count": 18,
   "id": "a5660d87-e144-4664-b7b0-9a66ca6e5b53",
   "metadata": {},
   "outputs": [
    {
     "name": "stdout",
     "output_type": "stream",
     "text": [
      "0\n",
      "1\n",
      "1\n",
      "2\n",
      "3\n",
      "5\n",
      "8\n"
     ]
    }
   ],
   "source": [
    "fib(7)"
   ]
  },
  {
   "cell_type": "markdown",
   "id": "4dc8f6e7-8675-4cda-8618-8d866d9d13db",
   "metadata": {},
   "source": [
    "Write a Python program to count the number of vowels in a given string using a for loop."
   ]
  },
  {
   "cell_type": "code",
   "execution_count": 27,
   "id": "d87b64f1-bc6b-4021-a542-09a7d073b7cc",
   "metadata": {},
   "outputs": [],
   "source": [
    "def count_vowels(string):\n",
    "  vowel_count = 0\n",
    "  vowels = 'aeiou'\n",
    "  for letter in string:\n",
    "    if letter in vowels:\n",
    "      vowel_count += 1\n",
    "  return vowel_count"
   ]
  },
  {
   "cell_type": "code",
   "execution_count": 28,
   "id": "546856fe-1cbe-4bf3-a051-1b73466542e0",
   "metadata": {},
   "outputs": [
    {
     "data": {
      "text/plain": [
       "3"
      ]
     },
     "execution_count": 28,
     "metadata": {},
     "output_type": "execute_result"
    }
   ],
   "source": [
    "count_vowels('kapil, sir')"
   ]
  },
  {
   "cell_type": "markdown",
   "id": "7a6f0f4e-0965-466e-94ce-ed06c95d2571",
   "metadata": {},
   "source": [
    "Write a Python program to reverse a list using a for loop."
   ]
  },
  {
   "cell_type": "code",
   "execution_count": 37,
   "id": "5470d95f-296b-4647-a6c4-ea8249ed8000",
   "metadata": {},
   "outputs": [
    {
     "name": "stdout",
     "output_type": "stream",
     "text": [
      "[5, 4, 3, 2, 1]\n"
     ]
    }
   ],
   "source": [
    "def reverse_list(list):\n",
    "  reversed_list = []\n",
    "  for i in range(len(list) - 1, -1, -1):\n",
    "    reversed_list.append(list[i])\n",
    "  return reversed_list\n",
    "list = [1, 2, 3, 4, 5]\n",
    "reversed_list = reverse_list(list)\n",
    "print(reversed_list)"
   ]
  },
  {
   "cell_type": "markdown",
   "id": "b68f31b8-63f9-439b-9bdb-4c091b331d10",
   "metadata": {},
   "source": [
    "Write a Python program to find the common elements between two lists using a for loop."
   ]
  },
  {
   "cell_type": "code",
   "execution_count": 41,
   "id": "c9535650-cdb9-41c6-a8be-160fac1b08bd",
   "metadata": {},
   "outputs": [
    {
     "name": "stdout",
     "output_type": "stream",
     "text": [
      "[2, 4]\n"
     ]
    }
   ],
   "source": [
    "def find_common_elements(list1, list2):\n",
    " \n",
    "  set1 = set(list1)\n",
    "  common_elements = []\n",
    "  for element in list2:\n",
    "    if element in set1:\n",
    "      common_elements.append(element)\n",
    "\n",
    "  return common_elements\n",
    "list1 = [1, 2, 3, 4]\n",
    "list2 = [2, 4, 5, 6]\n",
    "\n",
    "common_elements = find_common_elements(list1, list2)\n",
    "\n",
    "print(common_elements)"
   ]
  },
  {
   "cell_type": "markdown",
   "id": "23401113-6d64-486b-87d8-29e1d5306654",
   "metadata": {},
   "source": [
    "Write a Python program to check if a number is positive, negative, or zero using an if-else statement."
   ]
  },
  {
   "cell_type": "code",
   "execution_count": 44,
   "id": "4780b1b1-24f2-4b19-9b7c-3cc15395098b",
   "metadata": {},
   "outputs": [
    {
     "name": "stdout",
     "output_type": "stream",
     "text": [
      "zero\n"
     ]
    }
   ],
   "source": [
    "n=0\n",
    "if n==0:\n",
    "    print(\"zero\")\n",
    "elif n>=0:\n",
    "    print(\"postive number\")\n",
    "else:\n",
    "    print(\"negative number\")"
   ]
  },
  {
   "cell_type": "code",
   "execution_count": 45,
   "id": "f060bf5b-673b-45c5-aeeb-efda04ea13cb",
   "metadata": {},
   "outputs": [
    {
     "name": "stdout",
     "output_type": "stream",
     "text": [
      "negative number\n"
     ]
    }
   ],
   "source": [
    "n=-1\n",
    "if n==0:\n",
    "    print(\"zero\")\n",
    "elif n>=0:\n",
    "    print(\"postive number\")\n",
    "else:\n",
    "    print(\"negative number\")"
   ]
  },
  {
   "cell_type": "code",
   "execution_count": 46,
   "id": "ea641337-2001-47ad-8ef1-1d23599b9e5d",
   "metadata": {},
   "outputs": [
    {
     "name": "stdout",
     "output_type": "stream",
     "text": [
      "postive number\n"
     ]
    }
   ],
   "source": [
    "n=10\n",
    "\n",
    "if n==0:\n",
    "    print(\"zero\")\n",
    "elif n>=0:\n",
    "    print(\"postive number\")\n",
    "else:\n",
    "    print(\"negative number\")"
   ]
  },
  {
   "cell_type": "markdown",
   "id": "df2f0dc2-c5ca-49a3-974a-442211de7372",
   "metadata": {},
   "source": [
    "Create a Python program that checks if a given number is even or odd using an if-else statement."
   ]
  },
  {
   "cell_type": "code",
   "execution_count": 47,
   "id": "e32608b8-aa37-4b9b-b601-d38e02629d35",
   "metadata": {},
   "outputs": [
    {
     "name": "stdout",
     "output_type": "stream",
     "text": [
      "evem number\n"
     ]
    }
   ],
   "source": [
    "num=2\n",
    "\n",
    "if num%2==0:\n",
    "    print(\"evem number\")\n",
    "else:\n",
    "    print(\"odd number\")"
   ]
  },
  {
   "cell_type": "code",
   "execution_count": 48,
   "id": "930a8edf-b21b-4168-bb13-ff3d0489ce13",
   "metadata": {},
   "outputs": [
    {
     "name": "stdout",
     "output_type": "stream",
     "text": [
      "odd number\n"
     ]
    }
   ],
   "source": [
    "num=3\n",
    "\n",
    "if num%2==0:\n",
    "    print(\"evem number\")\n",
    "else:\n",
    "    print(\"odd number\")"
   ]
  },
  {
   "cell_type": "markdown",
   "id": "e8bf58ac-8f1a-45ce-8694-6b716a97a4db",
   "metadata": {},
   "source": [
    "Write a Python program to determine the largest of three numbers using if-else."
   ]
  },
  {
   "cell_type": "code",
   "execution_count": 52,
   "id": "aef7a6b2-cb95-48de-ac40-fc779fdfd3c9",
   "metadata": {},
   "outputs": [
    {
     "name": "stdout",
     "output_type": "stream",
     "text": [
      "largest number largest num 3\n"
     ]
    }
   ],
   "source": [
    "num1=10\n",
    "num2=20\n",
    "num3=30\n",
    "\n",
    "if num1>num2 and num1>num3:\n",
    "    print(\"largest number\", \"largest num1\")\n",
    "elif num2>num1 and num2>num3:\n",
    "    print(\"largest number\",\"largest num2\")\n",
    "else:\n",
    "    print (\"largest number\",\"largest num 3\")\n",
    "    "
   ]
  },
  {
   "cell_type": "code",
   "execution_count": 54,
   "id": "e07cca06-3935-46af-a3f3-a770f17ee90e",
   "metadata": {},
   "outputs": [
    {
     "name": "stdout",
     "output_type": "stream",
     "text": [
      "largest number largest num 1\n"
     ]
    }
   ],
   "source": [
    "num1=100\n",
    "num2=20\n",
    "num3=30\n",
    "\n",
    "if num1>num2 and num1>num3:\n",
    "    print(\"largest number\", \"largest num 1\")\n",
    "elif num2>num1 and num2>num3:\n",
    "    print(\"largest number\",\"largest num 2\")\n",
    "else:\n",
    "    print (\"largest number\",\"largest num 3\")\n",
    "    "
   ]
  },
  {
   "cell_type": "code",
   "execution_count": 55,
   "id": "2015911d-7836-4a83-8400-44ee97167f59",
   "metadata": {},
   "outputs": [
    {
     "name": "stdout",
     "output_type": "stream",
     "text": [
      "largest number largest num 2\n"
     ]
    }
   ],
   "source": [
    "num1=10\n",
    "num2=50\n",
    "num3=30\n",
    "\n",
    "if num1>num2 and num1>num3:\n",
    "    print(\"largest number\", \"largest num 1\")\n",
    "elif num2>num1 and num2>num3:\n",
    "    print(\"largest number\",\"largest num 2\")\n",
    "else:\n",
    "    print (\"largest number\",\"largest num 3\")"
   ]
  },
  {
   "cell_type": "markdown",
   "id": "230eebbd-7a08-4e92-90b4-21ef1039fc36",
   "metadata": {},
   "source": [
    "Create a Python program that checks if a given character is a vowel or consonant using if-else."
   ]
  },
  {
   "cell_type": "code",
   "execution_count": 56,
   "id": "2930b4c6-80ef-4b53-86d5-9abf39307e0f",
   "metadata": {},
   "outputs": [
    {
     "name": "stdout",
     "output_type": "stream",
     "text": [
      "a character is a vowel\n"
     ]
    }
   ],
   "source": [
    "ch=\"i\"\n",
    "\n",
    "if(ch ==\"a\" or ch == \"e\" or ch==\"i\" or ch== \"o\" or ch == \"u\"):\n",
    "    print(\"a character is a vowel\")\n",
    "else:\n",
    "    print(\"a character is a consonant\")"
   ]
  },
  {
   "cell_type": "code",
   "execution_count": 57,
   "id": "f452ff8d-2002-4ec2-9402-de2a6d085d2e",
   "metadata": {},
   "outputs": [
    {
     "name": "stdout",
     "output_type": "stream",
     "text": [
      "a character is a consonant\n"
     ]
    }
   ],
   "source": [
    "ch=\"x\"\n",
    "\n",
    "if(ch ==\"a\" or ch == \"e\" or ch==\"i\" or ch== \"o\" or ch == \"u\"):\n",
    "    print(\"a character is a vowel\")\n",
    "else:\n",
    "    print(\"a character is a consonant\")"
   ]
  },
  {
   "cell_type": "markdown",
   "id": "b1194172-e8a8-43f5-bd30-f0d6ff4f4483",
   "metadata": {},
   "source": [
    "Write a Python program to determine if a user is eligible to vote based on their age using if-else."
   ]
  },
  {
   "cell_type": "code",
   "execution_count": 60,
   "id": "7111ea6a-c97a-47dc-a9c8-35a7bb9d8033",
   "metadata": {},
   "outputs": [
    {
     "name": "stdout",
     "output_type": "stream",
     "text": [
      "eligible to vote\n"
     ]
    }
   ],
   "source": [
    "age=18\n",
    "\n",
    "if age>=18:\n",
    "    print(\"eligible to vote\")\n",
    "else:\n",
    "    print(\"not eligible to vote\")"
   ]
  },
  {
   "cell_type": "code",
   "execution_count": 62,
   "id": "d964aa8c-5328-438d-a08f-1e602af746f9",
   "metadata": {},
   "outputs": [
    {
     "name": "stdout",
     "output_type": "stream",
     "text": [
      "not eligible to vote\n"
     ]
    }
   ],
   "source": [
    "age=17\n",
    "\n",
    "if age>=18:\n",
    "    print(\"eligible to vote\")\n",
    "else:\n",
    "    print(\"not eligible to vote\")"
   ]
  },
  {
   "cell_type": "markdown",
   "id": "0e194d9d-a6bd-4af7-8a7c-7678d12b69d8",
   "metadata": {},
   "source": [
    "Create a Python program that calculates the discount amount based on the purchase amount using if-else."
   ]
  },
  {
   "cell_type": "code",
   "execution_count": 10,
   "id": "390e3f7f-d54b-4339-be2f-dbf1cd360033",
   "metadata": {},
   "outputs": [
    {
     "name": "stdin",
     "output_type": "stream",
     "text": [
      "Enter the purchase amount:  1000\n"
     ]
    },
    {
     "name": "stdout",
     "output_type": "stream",
     "text": [
      "This discount amount is:  100.0\n"
     ]
    }
   ],
   "source": [
    "purchase_amount =float (input(\"Enter the purchase amount: \"))\n",
    "                         \n",
    "if purchase_amount >=1000:\n",
    "   discount_amount = purchase_amount *0.10\n",
    "                         \n",
    "else:\n",
    "    discount_amount = purchase_amount *0.01\n",
    "                    \n",
    "print(\"This discount amount is: \", discount_amount)\n",
    "                         "
   ]
  },
  {
   "cell_type": "markdown",
   "id": "9f96b012-0d25-4613-a800-1948b50df8aa",
   "metadata": {},
   "source": [
    "Create a Python program that determines the grade of a student based on their score using if-else."
   ]
  },
  {
   "cell_type": "code",
   "execution_count": 11,
   "id": "3a543dca-9b1f-49f4-a4df-6049721db54a",
   "metadata": {},
   "outputs": [
    {
     "name": "stdout",
     "output_type": "stream",
     "text": [
      "excllent perfomance your grade A+\n"
     ]
    }
   ],
   "source": [
    "score=90\n",
    "if score>=90:\n",
    "    print(\"excllent perfomance your grade A+\")\n",
    "elif score>=80:\n",
    "    print(\"excllent perfomance your grade A\")\n",
    "elif score>=70:\n",
    "    print(\"excllent perfomance your grade B+\")\n",
    "elif score>=60:\n",
    "    print(\"excllent perfomance your grade B\")\n",
    "elif score>=50:\n",
    "    print(\"excllent perfomance your grade C+\")\n",
    "else:\n",
    "    print(\"excllent perfomance your grade c\")\n"
   ]
  },
  {
   "cell_type": "markdown",
   "id": "86c34248-edcd-4a48-9b22-fdcef0d9bca4",
   "metadata": {},
   "source": [
    "Write a Python program to check if a number is within a specified range using if-else."
   ]
  },
  {
   "cell_type": "code",
   "execution_count": 22,
   "id": "8398df56-57bb-4603-95d0-4e8282bd7e14",
   "metadata": {},
   "outputs": [
    {
     "name": "stdout",
     "output_type": "stream",
     "text": [
      "True\n"
     ]
    }
   ],
   "source": [
    "def check_number_in_range(number, lower_bound, upper_bound):\n",
    "    \n",
    "    if lower_bound <= number <= upper_bound:\n",
    "        return True\n",
    "    else:\n",
    "        return False\n",
    "is_in_range = check_number_in_range(10, 5, 15)\n",
    "print(is_in_range)"
   ]
  },
  {
   "cell_type": "markdown",
   "id": "e679b692-9aa4-4912-8303-9fc77b6e7ef8",
   "metadata": {},
   "source": [
    "Write a Python program to check if a string is empty or not using if-else."
   ]
  },
  {
   "cell_type": "code",
   "execution_count": 23,
   "id": "34f0d3c8-a663-4734-8478-27ba790f726f",
   "metadata": {},
   "outputs": [
    {
     "name": "stdout",
     "output_type": "stream",
     "text": [
      "if a string is empty\n"
     ]
    }
   ],
   "source": [
    "string=\"\"\n",
    "\n",
    "if not string:\n",
    "    print(\"if a string is empty\")\n",
    "else:\n",
    "    print(\"if a string is empty\")"
   ]
  },
  {
   "cell_type": "code",
   "execution_count": 25,
   "id": "61b0ad00-ea86-45a7-a75a-b5689a15c9a6",
   "metadata": {},
   "outputs": [
    {
     "name": "stdout",
     "output_type": "stream",
     "text": [
      "if a string is not empty\n"
     ]
    }
   ],
   "source": [
    "string=\"kapil\"\n",
    "\n",
    "if not string:\n",
    "    print(\"if a string is empty\")\n",
    "else:\n",
    "    print(\"if a string is not empty\")"
   ]
  },
  {
   "cell_type": "markdown",
   "id": "ac9f6b1b-ff67-4fc4-8e9d-5f1126aa1303",
   "metadata": {},
   "source": [
    "Create a Python program that identifies the type of a triangle (e.g., equilateral, isosceles, or scalene) based on input values using if-else."
   ]
  },
  {
   "cell_type": "code",
   "execution_count": 26,
   "id": "a13b63de-ea36-4f20-a3ab-05792698568a",
   "metadata": {},
   "outputs": [
    {
     "name": "stdout",
     "output_type": "stream",
     "text": [
      "Scalene Triangle\n"
     ]
    }
   ],
   "source": [
    "def checkTriangle(x, y, z):\n",
    "\tif x == y == z:\n",
    "\t\tprint(\"Equilateral Triangle\")\n",
    "\telif x == y or y == z or z == x:\n",
    "\t\tprint(\"Isosceles Triangle\")\n",
    "\telse:\n",
    "\t\tprint(\"Scalene Triangle\")\n",
    "\n",
    "\n",
    "x = 8\n",
    "y = 7\n",
    "z = 9\n",
    "\n",
    "\n",
    "checkTriangle(x, y, z)"
   ]
  },
  {
   "cell_type": "code",
   "execution_count": 27,
   "id": "bb5c5b73-e846-459d-8587-c415a1a343bd",
   "metadata": {},
   "outputs": [
    {
     "name": "stdout",
     "output_type": "stream",
     "text": [
      "Isosceles Triangle\n"
     ]
    }
   ],
   "source": [
    "def checkTriangle(x, y, z):\n",
    "\tif x == y == z:\n",
    "\t\tprint(\"Equilateral Triangle\")\n",
    "\telif x == y or y == z or z == x:\n",
    "\t\tprint(\"Isosceles Triangle\")\n",
    "\telse:\n",
    "\t\tprint(\"Scalene Triangle\")\n",
    "\n",
    "\n",
    "x = 8\n",
    "y = 7\n",
    "z = 9\n",
    "\n",
    "\n",
    "checkTriangle(x, z, z)"
   ]
  },
  {
   "cell_type": "code",
   "execution_count": 29,
   "id": "5f2e99c3-b139-4dcc-9a94-1016727a5907",
   "metadata": {},
   "outputs": [
    {
     "name": "stdout",
     "output_type": "stream",
     "text": [
      "Equilateral Triangle\n"
     ]
    }
   ],
   "source": [
    "def checkTriangle(x, y, z):\n",
    "\tif x == y == z:\n",
    "\t\tprint(\"Equilateral Triangle\")\n",
    "\telif x == y or y == z or z == x:\n",
    "\t\tprint(\"Isosceles Triangle\")\n",
    "\telse:\n",
    "\t\tprint(\"Scalene Triangle\")\n",
    "\n",
    "\n",
    "x = 8\n",
    "y = 7\n",
    "z = 9\n",
    "\n",
    "\n",
    "checkTriangle(x, x, x)"
   ]
  },
  {
   "cell_type": "markdown",
   "id": "247fbd2c-2fe7-40b0-a6a9-9aca1eafd6cf",
   "metadata": {},
   "source": [
    "Write a Python program to determine the day of the week based on a user-provided number using if-else."
   ]
  },
  {
   "cell_type": "code",
   "execution_count": 30,
   "id": "b4dabf36-e1a0-4101-9d69-b7c23280dc54",
   "metadata": {},
   "outputs": [
    {
     "name": "stdin",
     "output_type": "stream",
     "text": [
      "enter the value 1 to 7: 4\n"
     ]
    },
    {
     "name": "stdout",
     "output_type": "stream",
     "text": [
      "4 for Thursday\n"
     ]
    }
   ],
   "source": [
    "day=int(input(\"enter the value 1 to 7:\"))\n",
    "\n",
    "if day==1:\n",
    "     print(day,\"for Monday\")\n",
    "if day==2:\n",
    "     print(day,\"for Tuesday\")\n",
    "if day==3:\n",
    "     print(day,\"for Wednesday\")\n",
    "if day==4:\n",
    "     print(day,\"for Thursday\")\n",
    "if day==5:\n",
    "     print(day,\"for Friday\")\n",
    "if day==6:\n",
    "     print(day,\"for Saturday\")\n",
    "if day==7:\n",
    "     print(day,\"for Sunday\")\n"
   ]
  },
  {
   "cell_type": "markdown",
   "id": "291341c9-eac3-44f4-b260-5ef1dbc44e57",
   "metadata": {},
   "source": [
    "Create a Python program that checks if a given year is a leap year using both if-else and a function."
   ]
  },
  {
   "cell_type": "code",
   "execution_count": 31,
   "id": "d5d23f5a-dfd1-448d-a96b-25dc311c02db",
   "metadata": {},
   "outputs": [
    {
     "name": "stdout",
     "output_type": "stream",
     "text": [
      "a leap year\n"
     ]
    }
   ],
   "source": [
    "year =2000\n",
    "\n",
    "if (year%400==0) or (year%4==0 and year%100!=0):\n",
    "    print(\"a leap year\")\n",
    "else:\n",
    "    print(\"not a leap year\")"
   ]
  },
  {
   "cell_type": "code",
   "execution_count": 32,
   "id": "708bb3c9-b2b5-4bbd-8a42-c9e85d477bb7",
   "metadata": {},
   "outputs": [
    {
     "name": "stdout",
     "output_type": "stream",
     "text": [
      "not a leap year\n"
     ]
    }
   ],
   "source": [
    "year =2003\n",
    "\n",
    "if (year%400==0) or (year%4==0 and year%100!=0):\n",
    "    print(\"a leap year\")\n",
    "else:\n",
    "    print(\"not a leap year\")"
   ]
  },
  {
   "cell_type": "markdown",
   "id": "d10b9d85-2930-4d10-bc16-6d2d78952d3f",
   "metadata": {},
   "source": [
    "Write a Python program to categorize a given character as uppercase, lowercase, or neither using if-else"
   ]
  },
  {
   "cell_type": "code",
   "execution_count": 34,
   "id": "2cdc57f2-bbd8-44e3-9795-75350b94438f",
   "metadata": {},
   "outputs": [
    {
     "name": "stdout",
     "output_type": "stream",
     "text": [
      "uppercase\n",
      "lowercase\n",
      "special\n"
     ]
    }
   ],
   "source": [
    "def char_type(c):\n",
    "  if c.isupper():\n",
    "    return \"uppercase\"\n",
    "  elif c.islower():\n",
    "    return \"lowercase\"\n",
    "  else:\n",
    "    return \"special\"\n",
    "\n",
    "print(char_type('KAPIL'))  # uppercase\n",
    "print(char_type('kapil'))  # lowercase\n",
    "print(char_type('!'))  # special"
   ]
  },
  {
   "cell_type": "markdown",
   "id": "94016c7a-ea05-47cd-a1ff-9e82c4584874",
   "metadata": {},
   "source": [
    "Create a Python program that checks if a given year is a century year or not using if-else"
   ]
  },
  {
   "cell_type": "code",
   "execution_count": 35,
   "id": "570bbb14-21f8-4bd2-a7b5-6a81f645c405",
   "metadata": {},
   "outputs": [
    {
     "name": "stdout",
     "output_type": "stream",
     "text": [
      "not a century year\n"
     ]
    }
   ],
   "source": [
    "year =100\n",
    "\n",
    "if (year%400==0) or (year%4==0 and year%100!=0):\n",
    "    print(\"a leap year\")\n",
    "elif(year%100==0):\n",
    "    print(\"not a century year\")"
   ]
  },
  {
   "cell_type": "markdown",
   "id": "c6ec88c5-5628-44d1-baf3-5d72ca13cf6b",
   "metadata": {},
   "source": [
    "Write a Python program to determine the roots of a quadratic equation using if-else."
   ]
  },
  {
   "cell_type": "code",
   "execution_count": 36,
   "id": "fc348e02-25b8-4707-b203-f95227280e7e",
   "metadata": {},
   "outputs": [
    {
     "name": "stdin",
     "output_type": "stream",
     "text": [
      "Enter a:  20\n",
      "Enter b:  10\n",
      "Enter c:  10\n"
     ]
    },
    {
     "name": "stdout",
     "output_type": "stream",
     "text": [
      "The solution are (-0.25-0.6614378277661477j) and (-0.25+0.6614378277661477j)\n"
     ]
    }
   ],
   "source": [
    "import cmath  \n",
    "a = float(input('Enter a: '))  \n",
    "b = float(input('Enter b: '))  \n",
    "c = float(input('Enter c: '))  \n",
    "  \n",
    "# calculate the discriminant  \n",
    "d = (b**2) - (4*a*c)  \n",
    "  \n",
    "# find two solutions  \n",
    "sol1 = (-b-cmath.sqrt(d))/(2*a)  \n",
    "sol2 = (-b+cmath.sqrt(d))/(2*a)  \n",
    "print('The solution are {0} and {1}'.format(sol1,sol2))"
   ]
  },
  {
   "cell_type": "markdown",
   "id": "dac70d60-5b01-47e3-938e-6c0c49aabd5d",
   "metadata": {},
   "source": [
    "Write a Python program that uses the `map()` function to square each element of a list of numbers."
   ]
  },
  {
   "cell_type": "code",
   "execution_count": 4,
   "id": "8797fd9f-aea9-4eaa-ac88-7e6a6418c425",
   "metadata": {},
   "outputs": [],
   "source": [
    "l=[1,2,3,4,5]"
   ]
  },
  {
   "cell_type": "code",
   "execution_count": 5,
   "id": "2f1ccd8e-6221-45b7-b6e2-5509cb0f78cd",
   "metadata": {},
   "outputs": [
    {
     "data": {
      "text/plain": [
       "[2, 4, 6, 8, 10]"
      ]
     },
     "execution_count": 5,
     "metadata": {},
     "output_type": "execute_result"
    }
   ],
   "source": [
    "list(map (lambda a:a*2,l))"
   ]
  },
  {
   "cell_type": "markdown",
   "id": "9b409672-96de-4538-af57-f2361776e9c0",
   "metadata": {},
   "source": [
    "Create a Python program that uses the `map()` function to convert a list of names to uppercase."
   ]
  },
  {
   "cell_type": "code",
   "execution_count": 16,
   "id": "fef44c78-b511-4b8c-b35e-e174c7b800b9",
   "metadata": {},
   "outputs": [],
   "source": [
    "name=[\"kapil\",\"Ram\",\"shyam\"]"
   ]
  },
  {
   "cell_type": "code",
   "execution_count": 17,
   "id": "22d3651e-fbfd-4316-abc2-24d6a615d61b",
   "metadata": {},
   "outputs": [
    {
     "data": {
      "text/plain": [
       "['KAPIL', 'RAM', 'SHYAM']"
      ]
     },
     "execution_count": 17,
     "metadata": {},
     "output_type": "execute_result"
    }
   ],
   "source": [
    "list(map(str.upper,name))"
   ]
  },
  {
   "cell_type": "code",
   "execution_count": 18,
   "id": "4218adbb-fee7-44cf-932d-719125cd6b43",
   "metadata": {},
   "outputs": [],
   "source": [
    "s1=[\"pwskill\",\"sudh\"]"
   ]
  },
  {
   "cell_type": "code",
   "execution_count": 21,
   "id": "85ff352c-0bfd-4d6b-a8a6-9f0481f82296",
   "metadata": {},
   "outputs": [
    {
     "data": {
      "text/plain": [
       "['PWSKILL', 'SUDH']"
      ]
     },
     "execution_count": 21,
     "metadata": {},
     "output_type": "execute_result"
    }
   ],
   "source": [
    "list(map(str.upper,s1))"
   ]
  },
  {
   "cell_type": "markdown",
   "id": "fbec4d97-1fed-4625-adc1-8204bfc57ecd",
   "metadata": {},
   "source": [
    "Write a Python program that uses the `map()` function to calculate the length of each word in a list of strings."
   ]
  },
  {
   "cell_type": "code",
   "execution_count": 22,
   "id": "7d14e150-f9b4-4e1f-96f9-51162f033dbe",
   "metadata": {},
   "outputs": [],
   "source": [
    "s2=[\"kapil\"]"
   ]
  },
  {
   "cell_type": "code",
   "execution_count": 30,
   "id": "c10de0cb-7485-4059-b7a2-b37be771f41d",
   "metadata": {},
   "outputs": [
    {
     "data": {
      "text/plain": [
       "[5]"
      ]
     },
     "execution_count": 30,
     "metadata": {},
     "output_type": "execute_result"
    }
   ],
   "source": [
    "list(map(len,s2))"
   ]
  },
  {
   "cell_type": "markdown",
   "id": "3512b8ca-9311-461f-b4a2-882591350299",
   "metadata": {},
   "source": [
    "How can you use the `map()` function to apply a custom function to elements of multiple lists simultaneously in Python?"
   ]
  },
  {
   "cell_type": "code",
   "execution_count": 31,
   "id": "5603c9c3-3855-47db-adff-3a5ca83261ec",
   "metadata": {},
   "outputs": [],
   "source": [
    "l=[1,2,3,4,5,6]"
   ]
  },
  {
   "cell_type": "code",
   "execution_count": 32,
   "id": "f97127b4-8a6e-4e6d-9ffd-64c26382b5f9",
   "metadata": {},
   "outputs": [
    {
     "data": {
      "text/plain": [
       "[1, 4, 9, 16, 25, 36]"
      ]
     },
     "execution_count": 32,
     "metadata": {},
     "output_type": "execute_result"
    }
   ],
   "source": [
    "list(map (lambda a:a*a,l))"
   ]
  },
  {
   "cell_type": "markdown",
   "id": "cbfe35d9-0245-4538-a054-9b0d67cf8647",
   "metadata": {},
   "source": [
    "Create a Python program that uses `map()` to convert a list of temperatures from Celsius to Fahrenheit."
   ]
  },
  {
   "cell_type": "code",
   "execution_count": 33,
   "id": "b455a939-e387-4386-a717-334768418ae4",
   "metadata": {},
   "outputs": [],
   "source": [
    "def celsius_to_fahrenheit(celsius):\n",
    "  return (celsius * 9 / 5) + 32\n",
    "\n",
    "\n",
    "temperatures = [10, 20, 30]"
   ]
  },
  {
   "cell_type": "code",
   "execution_count": 35,
   "id": "f97d84e0-a699-43a4-95b4-de06e42eec42",
   "metadata": {},
   "outputs": [
    {
     "data": {
      "text/plain": [
       "[50.0, 68.0, 86.0]"
      ]
     },
     "execution_count": 35,
     "metadata": {},
     "output_type": "execute_result"
    }
   ],
   "source": [
    "list(map(celsius_to_fahrenheit, temperatures))"
   ]
  },
  {
   "cell_type": "markdown",
   "id": "d6dddf2c-356a-4233-9688-e59ec4c54eaa",
   "metadata": {},
   "source": [
    "Write a Python program that uses the `map()` function to round each element of a list of floating-point numbers to the nearest integer."
   ]
  },
  {
   "cell_type": "code",
   "execution_count": 36,
   "id": "474620ae-2dce-4a6c-bee2-73d3cbc1fd19",
   "metadata": {},
   "outputs": [],
   "source": [
    "numbers = [1.2, 3.4, 5.6, 7.8, 9.0]\n"
   ]
  },
  {
   "cell_type": "code",
   "execution_count": 38,
   "id": "d7524933-3acc-4f33-b6dc-887b33ff103b",
   "metadata": {},
   "outputs": [
    {
     "data": {
      "text/plain": [
       "[1, 3, 6, 8, 9]"
      ]
     },
     "execution_count": 38,
     "metadata": {},
     "output_type": "execute_result"
    }
   ],
   "source": [
    "list(map(round, numbers))"
   ]
  },
  {
   "cell_type": "code",
   "execution_count": 3,
   "id": "7dceb5d4-84f0-4862-90bc-2b307da8dbe2",
   "metadata": {},
   "outputs": [],
   "source": [
    "numbers=[1.2,3.4,5.6,7.8,9.0]"
   ]
  },
  {
   "cell_type": "markdown",
   "id": "94f30c2c-9bd1-425f-acf8-f06a653c8b07",
   "metadata": {},
   "source": [
    "Create a Python program that uses `reduce()` to find the maximum element in a list of numbers."
   ]
  },
  {
   "cell_type": "code",
   "execution_count": 73,
   "id": "615a3a4e-f70f-4ba8-9469-6a1695295a26",
   "metadata": {},
   "outputs": [
    {
     "name": "stdout",
     "output_type": "stream",
     "text": [
      "100\n"
     ]
    }
   ],
   "source": [
    "from functools import reduce\n",
    "lst = [20, 10, 20, 4, 100]\n",
    "max_elem = reduce(max, lst)\n",
    "print(max_elem)\n"
   ]
  },
  {
   "cell_type": "markdown",
   "id": "104893b3-35cf-4e02-af96-87d776add87b",
   "metadata": {},
   "source": [
    "How can you use the `reduce()` function to concatenate a list of strings into a single string?"
   ]
  },
  {
   "cell_type": "code",
   "execution_count": 6,
   "id": "0b0a6787-d0e6-4fe9-a276-00db27fe9354",
   "metadata": {},
   "outputs": [
    {
     "name": "stdout",
     "output_type": "stream",
     "text": [
      "hellow greek have a greeky day\n"
     ]
    }
   ],
   "source": [
    "from functools import reduce\n",
    "\n",
    "l=['hellow','greek','have','a','greeky','day']\n",
    "\n",
    "res = reduce (lambda x,y : x + ' '+  y,map(str,l))\n",
    "print(res)\n"
   ]
  },
  {
   "cell_type": "markdown",
   "id": "ba44becf-a85a-40ee-a982-c49a7de720e5",
   "metadata": {},
   "source": [
    "Write a Python program that calculates the factorial of a number using the `reduce()` function."
   ]
  },
  {
   "cell_type": "code",
   "execution_count": 9,
   "id": "65890642-58c7-4d10-a425-da44c5079f2c",
   "metadata": {},
   "outputs": [],
   "source": [
    "n=4\n",
    "\n",
    "fact = reduce(lambda a,b : a*b,range (1,n+1))"
   ]
  },
  {
   "cell_type": "code",
   "execution_count": 10,
   "id": "ea632dcd-a403-4914-b809-b13ce2e8c6de",
   "metadata": {},
   "outputs": [
    {
     "data": {
      "text/plain": [
       "24"
      ]
     },
     "execution_count": 10,
     "metadata": {},
     "output_type": "execute_result"
    }
   ],
   "source": [
    "fact"
   ]
  },
  {
   "cell_type": "markdown",
   "id": "d353b3c9-e2fd-4f1f-b3c1-9184e278f7b0",
   "metadata": {},
   "source": [
    "Write a Python program that uses the `reduce()` function to find the sum of the digits of a given number."
   ]
  },
  {
   "cell_type": "code",
   "execution_count": 23,
   "id": "d80541c4-b8bd-43ed-a2a7-4fcb0d6905e8",
   "metadata": {},
   "outputs": [
    {
     "name": "stdout",
     "output_type": "stream",
     "text": [
      "The sum of the list elements is : 17\n"
     ]
    }
   ],
   "source": [
    "import functools\n",
    "lis = [1, 3, 5, 6, 2]\n",
    "print(\"The sum of the list elements is : \", end=\"\")\n",
    "print(functools.reduce(lambda a, b: a+b, lis))\n",
    "\n"
   ]
  },
  {
   "cell_type": "markdown",
   "id": "186054d0-3299-419e-a630-7254fc8505b6",
   "metadata": {},
   "source": [
    "Create a recursive Python function to find the greatest common divisor (GCD) of two numbers using the Euclidean algorithm."
   ]
  },
  {
   "cell_type": "code",
   "execution_count": 32,
   "id": "bc3f7be2-7444-450e-9612-40315509cc61",
   "metadata": {},
   "outputs": [
    {
     "name": "stdout",
     "output_type": "stream",
     "text": [
      "The gcd of 60 and 48 is : 12\n"
     ]
    }
   ],
   "source": [
    "def hcfnaive(a, b):\n",
    "\tif(b == 0):\n",
    "\t\treturn abs(a)\n",
    "\telse:\n",
    "\t\treturn hcfnaive(b, a % b)\n",
    "\n",
    "a = 60\n",
    "b = 48\n",
    "\n",
    "# prints 12\n",
    "print(\"The gcd of 60 and 48 is : \", end=\"\")\n",
    "print(hcfnaive(60, 48))\n"
   ]
  },
  {
   "cell_type": "code",
   "execution_count": 34,
   "id": "f6aa6382-220e-4c1c-8df2-a168b33626e6",
   "metadata": {},
   "outputs": [
    {
     "name": "stdout",
     "output_type": "stream",
     "text": [
      "The gcd of 60 and 48 is : 12\n"
     ]
    }
   ],
   "source": [
    "def computeGCD(x, y):\n",
    "\twhile(y):\n",
    "\t    x, y = y, x % y\n",
    "\treturn abs(x)\n",
    "\n",
    "a = 60\n",
    "b = 48\n",
    "\n",
    "# prints 12\n",
    "print (\"The gcd of 60 and 48 is : \",end=\"\")\n",
    "print (computeGCD(60, 48))\n"
   ]
  },
  {
   "cell_type": "markdown",
   "id": "e1f3048b-16f5-4036-a6ba-4e24b6c1cd34",
   "metadata": {},
   "source": [
    "Write a Python program that uses the `filter()` function to select even numbers from a list of integers."
   ]
  },
  {
   "cell_type": "code",
   "execution_count": 36,
   "id": "6bc51cd5-9afa-4f88-b954-6a48a9dcdab0",
   "metadata": {},
   "outputs": [],
   "source": [
    "l= [1,2,3,4,5,6]"
   ]
  },
  {
   "cell_type": "code",
   "execution_count": 38,
   "id": "02a8e300-5f07-4f66-a481-b3457c028ca4",
   "metadata": {},
   "outputs": [
    {
     "data": {
      "text/plain": [
       "[2, 4, 6]"
      ]
     },
     "execution_count": 38,
     "metadata": {},
     "output_type": "execute_result"
    }
   ],
   "source": [
    "list(filter(lambda a:a%2==0,l))"
   ]
  },
  {
   "cell_type": "markdown",
   "id": "f594dda9-54c1-4385-8890-3cbb0749fbdc",
   "metadata": {},
   "source": [
    "Create a Python program that uses the `filter()` function to select names that start with a specific letter from a list of strings."
   ]
  },
  {
   "cell_type": "code",
   "execution_count": 39,
   "id": "ab8638c1-0139-48fd-a2ee-66f125ccada2",
   "metadata": {},
   "outputs": [],
   "source": [
    "l1=[\"kapil\",\"ram\",\"sudh\",\"kumar\"]"
   ]
  },
  {
   "cell_type": "code",
   "execution_count": 41,
   "id": "5f6cda55-c57d-49de-8c6d-eaca15237df7",
   "metadata": {},
   "outputs": [
    {
     "data": {
      "text/plain": [
       "['kapil', 'kumar']"
      ]
     },
     "execution_count": 41,
     "metadata": {},
     "output_type": "execute_result"
    }
   ],
   "source": [
    "list(filter (lambda a:a[0]==\"k\",l1))"
   ]
  },
  {
   "cell_type": "code",
   "execution_count": null,
   "id": "ca92d803-8dc8-4fed-874d-485217347db4",
   "metadata": {},
   "outputs": [],
   "source": [
    "Write a Python program to calculate the factorial of a number using recursion."
   ]
  },
  {
   "cell_type": "code",
   "execution_count": 1,
   "id": "ac77e406-1f1c-4036-9476-4f0e17d0d963",
   "metadata": {},
   "outputs": [],
   "source": [
    "def factorial(n):\n",
    "    if (n==1 or n==0):\n",
    "        return 1\n",
    "    else:\n",
    "        return (n*factorial (n-1))\n"
   ]
  },
  {
   "cell_type": "code",
   "execution_count": 2,
   "id": "d9638311-601e-405c-aa32-574378ffe6e6",
   "metadata": {},
   "outputs": [
    {
     "data": {
      "text/plain": [
       "120"
      ]
     },
     "execution_count": 2,
     "metadata": {},
     "output_type": "execute_result"
    }
   ],
   "source": [
    "factorial(5)"
   ]
  },
  {
   "cell_type": "markdown",
   "id": "7680e01c-1037-4cbf-98cc-df8d1edd3d13",
   "metadata": {},
   "source": [
    "Create a recursive Python function to find the nth Fibonacci number."
   ]
  },
  {
   "cell_type": "code",
   "execution_count": 3,
   "id": "d8b60552-386f-45d8-a132-e95200dd8f7f",
   "metadata": {},
   "outputs": [],
   "source": [
    "def fabonacci(n):\n",
    "    if n<=1:\n",
    "        return n\n",
    "    else:\n",
    "        return fabonacci (n-1)+ fabonacci (n-2)"
   ]
  },
  {
   "cell_type": "code",
   "execution_count": 4,
   "id": "fd559d4e-3f6a-466b-b58b-1d5976c40d6e",
   "metadata": {},
   "outputs": [
    {
     "data": {
      "text/plain": [
       "13"
      ]
     },
     "execution_count": 4,
     "metadata": {},
     "output_type": "execute_result"
    }
   ],
   "source": [
    "fabonacci(7)"
   ]
  },
  {
   "cell_type": "markdown",
   "id": "4d495705-99a9-4778-8f26-432dbee271d1",
   "metadata": {},
   "source": [
    "Write a recursive Python function to calculate the sum of all elements in a list."
   ]
  },
  {
   "cell_type": "code",
   "execution_count": 6,
   "id": "d3d4ceae-4c0b-40a3-80e4-a45592dc5f98",
   "metadata": {},
   "outputs": [],
   "source": [
    "def sum_list(list1):\n",
    "    if len(list1)==0:\n",
    "        return 0\n",
    "    else:\n",
    "        return list1[0]+sum_list(list1[1:])"
   ]
  },
  {
   "cell_type": "code",
   "execution_count": 8,
   "id": "297f20b5-05e2-4618-abd7-d2291bb7e62c",
   "metadata": {},
   "outputs": [
    {
     "data": {
      "text/plain": [
       "15"
      ]
     },
     "execution_count": 8,
     "metadata": {},
     "output_type": "execute_result"
    }
   ],
   "source": [
    "sum_list([1,2,3,4,5])"
   ]
  },
  {
   "cell_type": "markdown",
   "id": "d266d50c-2e58-4860-a139-8ebf0a09f21a",
   "metadata": {},
   "source": [
    "Create a recursive Python function to find the greatest common divisor (GCD) of two numbers using the Euclidean algorithm."
   ]
  },
  {
   "cell_type": "code",
   "execution_count": 9,
   "id": "af084179-6d28-4232-b8ae-fb67b19239dd",
   "metadata": {},
   "outputs": [
    {
     "name": "stdin",
     "output_type": "stream",
     "text": [
      "Enter first number: 25\n",
      "Enter second number: 45\n"
     ]
    },
    {
     "name": "stdout",
     "output_type": "stream",
     "text": [
      "GCD is: \n",
      "5\n"
     ]
    }
   ],
   "source": [
    "def gcd(a,b):\n",
    "    if(b==0):\n",
    "        return a\n",
    "    else:\n",
    "        return gcd(b,a%b)\n",
    "a=int(input(\"Enter first number:\"))\n",
    "b=int(input(\"Enter second number:\"))\n",
    "GCD=gcd(a,b)\n",
    "print(\"GCD is: \")\n",
    "print(GCD)"
   ]
  },
  {
   "cell_type": "markdown",
   "id": "b0bfbe2c-3b5d-484b-a01d-0b82e0e001fa",
   "metadata": {},
   "source": [
    "Write a recursive Python function to reverse a string."
   ]
  },
  {
   "cell_type": "code",
   "execution_count": 33,
   "id": "72c85f3f-f47c-428b-8314-92abeaeec0d3",
   "metadata": {},
   "outputs": [],
   "source": [
    "def find_revese(s):\n",
    "    if s==\"\":\n",
    "        return \"\"\n",
    "    else:\n",
    "         return find_revese (s[1:])+s[0]"
   ]
  },
  {
   "cell_type": "code",
   "execution_count": 34,
   "id": "53678aa1-dc42-4635-bf45-0dd5efb467e6",
   "metadata": {},
   "outputs": [
    {
     "data": {
      "text/plain": [
       "'lipak'"
      ]
     },
     "execution_count": 34,
     "metadata": {},
     "output_type": "execute_result"
    }
   ],
   "source": [
    "find_revese(\"kapil\")"
   ]
  },
  {
   "cell_type": "markdown",
   "id": "0274ab99-d1ae-4c04-bb4f-6a106e6c9b1d",
   "metadata": {},
   "source": [
    "Create a recursive Python function to calculate the power of a number (x^n)."
   ]
  },
  {
   "cell_type": "code",
   "execution_count": 43,
   "id": "9c1a564d-a55f-449b-8091-1e62f2bbf6fc",
   "metadata": {},
   "outputs": [
    {
     "name": "stdout",
     "output_type": "stream",
     "text": [
      "2 to the power 3 is 8\n"
     ]
    }
   ],
   "source": [
    "def power(a,b):\n",
    "    if b!=0:\n",
    "        return a*power(a,b-1)\n",
    "    else:\n",
    "        return 1\n",
    "a=2\n",
    "b=3\n",
    "print(a,\"to the power\",b,\"is\",power(a,b))"
   ]
  },
  {
   "cell_type": "code",
   "execution_count": null,
   "id": "9861bc62-16c3-4050-8738-ced1a9a08612",
   "metadata": {},
   "outputs": [],
   "source": []
  }
 ],
 "metadata": {
  "kernelspec": {
   "display_name": "Python 3 (ipykernel)",
   "language": "python",
   "name": "python3"
  },
  "language_info": {
   "codemirror_mode": {
    "name": "ipython",
    "version": 3
   },
   "file_extension": ".py",
   "mimetype": "text/x-python",
   "name": "python",
   "nbconvert_exporter": "python",
   "pygments_lexer": "ipython3",
   "version": "3.10.8"
  }
 },
 "nbformat": 4,
 "nbformat_minor": 5
}
